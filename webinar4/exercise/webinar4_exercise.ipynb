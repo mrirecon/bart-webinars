{
 "cells": [
  {
   "cell_type": "markdown",
   "metadata": {},
   "source": [
    "# Bart Webinar 4: Hands-on Exercise\n",
    "\n",
    "In this exercise you will use BART with Python/NumPy to reconstruct prospectively under-sampled 2D k-space data. \n",
    "\n",
    "The general workflow of this notebook is as follows:- \n",
    "1. Import k-space data from hdf5 file. There are 2 separate arrays in the file: undersampled k-space data and a low-resolution reference scan with a fully sampled calibration region. \n",
    "1. Visualize the data for both the files in k-space and in image space\n",
    "1. Perform coil-compression and estimate the sensitivity maps from the reference scan \n",
    "1. Use the sensitivity maps and the undersampled k-space data to reconstruct the image using parallel imaging\n",
    "\n",
    "You will fill in the missing code snippets between the `TODO` comments to complete the workflow\n",
    "\n",
    "The data were collected on a 3 Tesla Siemens Vida scanner at UT Austin with IRB approval and informed consent.\n",
    "\n",
    "### Main references\n",
    "\n",
    "Pruessmann KP, Weiger M, Scheidegger MB, Boesiger P. SENSE: sensitivity encoding for fast MRI. Magn Reson Med. 1999 Nov;42(5):952-62. PMID: 10542355.\n",
    "\n",
    "Huang F, Vijayakumar S, Li Y, Hertel S, Duensing GR. A software channel compression technique for faster reconstruction with many channels. Magn Reson Imaging. 2008 Jan;26(1):133-41. doi: 10.1016/j.mri.2007.04.010. Epub 2007 Jun 15. PMID: 17573223.\n",
    "\n",
    "Uecker M, Lai P, Murphy MJ, Virtue P, Elad M, Pauly JM, Vasanawala SS, Lustig M. ESPIRiT--an eigenvalue approach to autocalibrating parallel MRI: where SENSE meets GRAPPA. Magn Reson Med. 2014 Mar;71(3):990-1001. doi: 10.1002/mrm.24751. PMID: 23649942; PMCID: PMC4142121.\n",
    "\n",
    "Iyer S, Ong F, Setsompop K, Doneva M, Lustig M. SURE-based automatic parameter selection for ESPIRiT calibration. Magn Reson Med. 2020 Dec;84(6):3423-3437. doi: 10.1002/mrm.28386. Epub 2020 Jul 19. PMID: 32686178.\n",
    "\n",
    "\n",
    "**Authors**: [Sidharth Kumar](mailto:sidharth.kumar@utexas.edu), [Jon Tamir](mailto:jtamir@utexas.edu)  \n",
    "**Institution**: UT Austin"
   ]
  },
  {
   "cell_type": "markdown",
   "metadata": {},
   "source": [
    "### Prerequisites\n",
    "\n",
    "Make sure the BART configuration is completed and these paths are set correctly.\n",
    "\n",
    "`TOOLBOX_PATH=/Your/path/to/bart`\n",
    "\n",
    "`PATH=$TOOLBOX_PATH:$PATH`\n",
    "\n",
    "In addition to the more common scientific Python libraries, we will also use `h5py`. If you are missing it, uncomment the following cell"
   ]
  },
  {
   "cell_type": "code",
   "execution_count": null,
   "metadata": {},
   "outputs": [],
   "source": [
    "# !pip install h5py"
   ]
  },
  {
   "cell_type": "code",
   "execution_count": null,
   "metadata": {},
   "outputs": [],
   "source": [
    "import numpy as np\n",
    "import matplotlib.pyplot as plt\n",
    "from bart import bart\n",
    "import h5py\n",
    "%matplotlib inline"
   ]
  },
  {
   "cell_type": "markdown",
   "metadata": {},
   "source": [
    "## Load the data\n",
    "Load the data to be used for reconstruction, the data have 2 separate files for undersampled k-space data and the fully sampled (only in calibration region) reference data."
   ]
  },
  {
   "cell_type": "code",
   "execution_count": null,
   "metadata": {},
   "outputs": [],
   "source": [
    "with h5py.File('webinar4_exercise_data.h5', 'r') as F:\n",
    "    ksp_und = np.array(F['ksp_und'])\n",
    "    ksp_ref = np.array(F['ksp_ref'])\n",
    "    \n",
    "print('ksp_und shape:', ksp_und.shape)\n",
    "print('ksp_ref shape:', ksp_ref.shape)"
   ]
  },
  {
   "cell_type": "markdown",
   "metadata": {},
   "source": [
    "## Resize the reference data\n",
    "Zero-pad the reference k-space data to the same shape as the undersampled k-space data so that the calculated sensitivity maps are of same dimension.\n",
    "\n",
    "Use the `bart resize` tool and call the output `ksp_ref`."
   ]
  },
  {
   "cell_type": "code",
   "execution_count": null,
   "metadata": {},
   "outputs": [],
   "source": [
    "# zero-pad ksp_ref in the readout direction to match the shape of ksp_und\n",
    "### TODO your code here\n",
    "\n",
    "\n",
    "###\n",
    "\n",
    "print('ksp_und shape:', ksp_und.shape)\n",
    "print('ksp_ref shape:', ksp_ref.shape)"
   ]
  },
  {
   "cell_type": "markdown",
   "metadata": {},
   "source": [
    "## Visualize the reference scan\n",
    "Plot the k-space of the reference scan and observe that only the centeral region is sampled. Also notice that the frequency encode direction is fully sampled and in the phase encode we only have samples in the central region."
   ]
  },
  {
   "cell_type": "code",
   "execution_count": null,
   "metadata": {},
   "outputs": [],
   "source": [
    "# visualize the ref scan kspace\n",
    "fig, axes = plt.subplots(2, 6, figsize=(16, 6))\n",
    "plt.tight_layout() # This automatically puts space between plots and make it tidy\n",
    "for i in range(2):\n",
    "    for ax, index in zip(axes[i], range(12)):\n",
    "        ax.imshow(np.abs(ksp_ref[...,i*6+index]),cmap='gray',vmax=.00002)\n",
    "        ax.set_title('Coil #{}'.format(i*6 + index))"
   ]
  },
  {
   "cell_type": "markdown",
   "metadata": {},
   "source": [
    "Now we will perform a root-sum-of-squares (RSS) reconstruction of reference scan.\n",
    "\n",
    "Use the `bart fft` tool to do a 2D unitary inverse Fourier transform. Assign the output to `cimg_ref`."
   ]
  },
  {
   "cell_type": "code",
   "execution_count": null,
   "metadata": {},
   "outputs": [],
   "source": [
    "# ifft of the ref k-space data\n",
    "### TODO your code here\n",
    "\n",
    "###\n",
    "\n",
    "print(cimg_ref.shape)"
   ]
  },
  {
   "cell_type": "markdown",
   "metadata": {},
   "source": [
    "Plot the calibration images, and observe the low resolution in these images."
   ]
  },
  {
   "cell_type": "code",
   "execution_count": null,
   "metadata": {},
   "outputs": [],
   "source": [
    "# visualize the ref scan coil images\n",
    "fig, axes = plt.subplots(2, 6, figsize=(16, 6))\n",
    "plt.tight_layout() # This automatically puts space between plots and make it tidy\n",
    "for i in range(2):\n",
    "    for ax, index in zip(axes[i], range(12)):\n",
    "        ax.imshow(np.abs(cimg_ref[...,i*6+index]),cmap='gray',vmax=.00004)\n",
    "        ax.set_title('Coil #{}'.format(i*6 + index))"
   ]
  },
  {
   "cell_type": "markdown",
   "metadata": {},
   "source": [
    "Now use the `bart rss` tool to perform RSS along the coil dimension. Call the output `rss_ref`.\n",
    "\n",
    "Plot the result and observe the low-resolution in the phase-encode direction."
   ]
  },
  {
   "cell_type": "code",
   "execution_count": null,
   "metadata": {},
   "outputs": [],
   "source": [
    "### TODO your code here\n",
    "\n",
    "###\n",
    "\n",
    "# visualize the RSS image\n",
    "fig = plt.figure(figsize=(8, 4))\n",
    "ax = fig.add_axes([0,0,1,1])\n",
    "ax.imshow(np.abs(rss_ref),cmap='gray')\n",
    "ax.set_title('Reference scan RSS')"
   ]
  },
  {
   "cell_type": "markdown",
   "metadata": {},
   "source": [
    "## PICS scale factor\n",
    "The parallel imaging and compressed sensing, `bart pics` command typically scales the k-space data so that the RSS image has maximum value close to one. This is so that the regularization factor is more consistent across different input datasets. \n",
    "\n",
    "The scale factor is chosen based on the RSS reconstruction of a fully sampled auto-calibration region in the data:\n",
    "```python\n",
    "scale_factor = np.percentile(abs(rss_acs), 99)\n",
    "```\n",
    "where `np.percentile` selects the 99th percentile and `rss_acs` is the RSS reconstruction.\n",
    "\n",
    "When the input data do not contain a fully sampled calibration region, the `pics` command will not be able to automatically compute the scale factor and it will default to 1.0. Therefore, it is useful to manually calculate the scale factor and pass it to the `pics` command through the `-w` option."
   ]
  },
  {
   "cell_type": "code",
   "execution_count": null,
   "metadata": {},
   "outputs": [],
   "source": [
    "# get the scale factor from the reference data\n",
    "scale_factor = np.percentile(abs(rss_ref), 99)\n",
    "print('Scale factor: {:.5f}'.format(scale_factor))"
   ]
  },
  {
   "cell_type": "markdown",
   "metadata": {},
   "source": [
    "## Plot and observe the under-sampled k-space data\n",
    "Now we will look at the under-sampled data."
   ]
  },
  {
   "cell_type": "code",
   "execution_count": null,
   "metadata": {},
   "outputs": [],
   "source": [
    "fig, axes = plt.subplots(2, 6, figsize=(16, 6))\n",
    "plt.tight_layout() # This automatically puts space between plots and make it tidy\n",
    "for i in range(2):\n",
    "    for ax, index in zip(axes[i], range(12)):\n",
    "        ax.imshow(np.abs(ksp_und[...,i*6+index]), cmap='gray', vmax=.00002)\n",
    "        ax.set_title('Coil #{}'.format(i*6 + index))"
   ]
  },
  {
   "cell_type": "markdown",
   "metadata": {},
   "source": [
    "## Calculate sampling pattern\n",
    "In the above k-space plots, the undersampling is not clearly observed due to the size of the plot. We can confirm that the data are under-sampled by using the `bart pattern` command. This command calculates the sampling pattern by checking where the data are strictly non-zero.\n",
    "\n",
    "Use the `bart pattern` command to calculate the sampling pattern. Call the output `mask`.  \n",
    "_Hint:_ BART outputs are often complex-valued. Therefore you will need to cast the output to a real-value using `.real`. \n",
    "\n",
    "Calculate the accelaration factor as $R=\\frac{N}{N_s}$, where $N$ is the k-space size and $N_s$ is the number of sampled points in the mask. Plot the mask to observe that indeed the kspace data is undersampled."
   ]
  },
  {
   "cell_type": "code",
   "execution_count": null,
   "metadata": {},
   "outputs": [],
   "source": [
    "# calculate the sampling pattern\n",
    "### TODO your code here\n",
    "\n",
    "\n",
    "###\n",
    "\n",
    "fig, axes = plt.subplots(1, 1, figsize=(4, 4))\n",
    "plt.tight_layout() # This automatically puts space between plots and make it tidy\n",
    "axes.imshow(mask, cmap='gray')\n",
    "plt.title('Acceleration Factor: R={:.2f}'.format(R))\n"
   ]
  },
  {
   "cell_type": "markdown",
   "metadata": {},
   "source": [
    "## Visualize the under-sampled data in the image domain\n",
    "Perform an RSS reconstruction of the under-sampled data, following similar steps to those of the reference scan. Use the expected variable names based on the code provided."
   ]
  },
  {
   "cell_type": "code",
   "execution_count": null,
   "metadata": {},
   "outputs": [],
   "source": [
    "# take IFFT of the under-sampled data\n",
    "### TODO your code here\n",
    "\n",
    "###\n",
    "\n",
    "print(cimg_und.shape)"
   ]
  },
  {
   "cell_type": "code",
   "execution_count": null,
   "metadata": {},
   "outputs": [],
   "source": [
    "# visualize the aliased images\n",
    "fig, axes = plt.subplots(2, 6, figsize=(16, 6))\n",
    "plt.tight_layout() # This automatically puts space between plots and make it tidy\n",
    "for i in range(2):\n",
    "    for ax, index in zip(axes[i], range(12)):\n",
    "        ax.imshow(np.abs(cimg_und[...,i*6+index]),cmap='gray',vmax=.00004)\n",
    "        ax.set_title('Coil #{}'.format(i*6 + index))"
   ]
  },
  {
   "cell_type": "code",
   "execution_count": null,
   "metadata": {},
   "outputs": [],
   "source": [
    "# RSS zero-filled reconstruction\n",
    "### TODO your code here\n",
    "\n",
    "###\n",
    "\n",
    "fig = plt.figure(figsize=(8, 4))\n",
    "ax = fig.add_axes([0,0,1,1])\n",
    "ax.imshow(np.abs(rss_und),cmap='gray')\n",
    "ax.set_title('Under-sampled RSS')"
   ]
  },
  {
   "cell_type": "markdown",
   "metadata": {},
   "source": [
    "## Coil Compression\n",
    "Before reconstucting, we will coil-compress the coils using the Software Coil Compression method.\n",
    "\n",
    "First calculate the coil compression matrix using `bart cc` command on the reference scan data. Call the coil compression matrix `cc_matrix`.\n",
    "\n",
    "Then project the reference scan and the under-sampled k-space data using `bart ccapply` command to the desired number of virtual coils (we recommend about 8) for this data. Call the outputs based on what's shown in the cells.\n",
    "\n",
    "To see more information about any of these commands use `!bart cc -h` in a new cell"
   ]
  },
  {
   "cell_type": "code",
   "execution_count": null,
   "metadata": {},
   "outputs": [],
   "source": [
    "# run coil compression to get coil compression matrix\n",
    "### TODO your code here\n",
    "\n",
    "###\n",
    "\n",
    "print(cc_matrix.shape)"
   ]
  },
  {
   "cell_type": "code",
   "execution_count": null,
   "metadata": {},
   "outputs": [],
   "source": [
    "# apply coil compression to num_vcoils  virtual coils -- apply to ref and to kspace data!\n",
    "### TODO your code here\n",
    "\n",
    "\n",
    "\n",
    "###\n",
    "\n",
    "print(ksp_cc_ref.shape)\n",
    "print(ksp_cc_und.shape)"
   ]
  },
  {
   "cell_type": "markdown",
   "metadata": {},
   "source": [
    "## Coil sensitvity map calibration\n",
    "Use `bart ecalib` command to estimate the coil sensitivities from the coil compressed reference k-space data and plot the coil sensitivity maps. You can use the `-a` parameter to automatically estimate the ESPIRiT parameters. Call the output `coil_sens`."
   ]
  },
  {
   "cell_type": "code",
   "execution_count": null,
   "metadata": {},
   "outputs": [],
   "source": [
    "# bart ecalib help\n",
    "!bart ecalib -h"
   ]
  },
  {
   "cell_type": "code",
   "execution_count": null,
   "metadata": {},
   "outputs": [],
   "source": [
    "# estimate the coil sensitivities\n",
    "### TODO your code here\n",
    "\n",
    "###\n",
    "\n",
    "print(coil_sens.shape)"
   ]
  },
  {
   "cell_type": "code",
   "execution_count": null,
   "metadata": {},
   "outputs": [],
   "source": [
    "# visualize the estimated coil sensitivities\n",
    "plt.figure(figsize=(20,6))\n",
    "for index in range(num_vcoils):\n",
    "    plt.subplot(1,num_vcoils,index+1)\n",
    "    plt.imshow(np.abs(coil_sens[..., index]),cmap='gray')\n",
    "print('coil sensitivity maps')"
   ]
  },
  {
   "cell_type": "markdown",
   "metadata": {},
   "source": [
    "## Reconstruction\n",
    "Reconstruct the coil-compressed data using the `bart pics` command. First, run the help command and observe which flags you will require for regularation options, manually scaling/re-scaling of the data, and input order. We recommend using $\\ell_2$ regularization.\n",
    "\n",
    "Plot the reconstructed image and observe that the aliasing is removed and you can see a high resolution T2-FLAIR image of brain."
   ]
  },
  {
   "cell_type": "code",
   "execution_count": null,
   "metadata": {},
   "outputs": [],
   "source": [
    "# bart pics command help\n",
    "!bart pics -h"
   ]
  },
  {
   "cell_type": "code",
   "execution_count": null,
   "metadata": {},
   "outputs": [],
   "source": [
    "# reconstruct the image using bart pics\n",
    "### TODO your code here\n",
    "\n",
    "\n",
    "###\n",
    "\n",
    "print(recon.shape)"
   ]
  },
  {
   "cell_type": "code",
   "execution_count": null,
   "metadata": {},
   "outputs": [],
   "source": [
    "# visualize the reconstructed T2-FLAIR image\n",
    "\n",
    "fig = plt.figure(figsize=(8, 4))\n",
    "ax = fig.add_axes([0,0,1,1])\n",
    "ax.imshow(np.abs(recon), cmap='gray', vmax=.0003)\n",
    "ax.set_title('T2 FLAIR reconstructed')"
   ]
  },
  {
   "cell_type": "markdown",
   "metadata": {},
   "source": [
    "__Thank you for your participation!__"
   ]
  },
  {
   "cell_type": "markdown",
   "metadata": {},
   "source": [
    "## (Extra credit) Undersampling by an additional factor of 2\n",
    "In simulation, undersampling can be performed in both the directions i.e. phase and frequency encode. However on actual scanner, the frequency encode direction is always fully sampled. Therefore we will further undersample the phase encode direction by a factor of 2"
   ]
  },
  {
   "cell_type": "code",
   "execution_count": null,
   "metadata": {},
   "outputs": [],
   "source": [
    "ksp_cc_und_4x = np.zeros((ksp_cc_und.shape),dtype=complex)\n",
    "\n",
    "ksp_cc_und_4x[1::4,...] = ksp_cc_und[1::4,...] #undersampling in the phase encode direction\n",
    "# ksp_cc_und_4x[:,1::2,:] = ksp_cc_und[:,1::2,:] #undersampling in the frequency encode direction"
   ]
  },
  {
   "cell_type": "markdown",
   "metadata": {},
   "source": [
    "## Reconstruct\n",
    "Follow a similar approach to the above exercise to reconstruct the 4x under-sampled data."
   ]
  },
  {
   "cell_type": "code",
   "execution_count": null,
   "metadata": {},
   "outputs": [],
   "source": []
  }
 ],
 "metadata": {
  "kernelspec": {
   "display_name": "Python 3",
   "language": "python",
   "name": "python3"
  },
  "language_info": {
   "codemirror_mode": {
    "name": "ipython",
    "version": 3
   },
   "file_extension": ".py",
   "mimetype": "text/x-python",
   "name": "python",
   "nbconvert_exporter": "python",
   "pygments_lexer": "ipython3",
   "version": "3.7.7"
  }
 },
 "nbformat": 4,
 "nbformat_minor": 2
}
